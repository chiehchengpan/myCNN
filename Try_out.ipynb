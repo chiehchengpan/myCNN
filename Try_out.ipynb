{
 "cells": [
  {
   "cell_type": "code",
   "execution_count": 1,
   "metadata": {},
   "outputs": [
    {
     "name": "stderr",
     "output_type": "stream",
     "text": [
      "Using TensorFlow backend.\n"
     ]
    },
    {
     "name": "stdout",
     "output_type": "stream",
     "text": [
      "Downloading data from http://fashion-mnist.s3-website.eu-central-1.amazonaws.com/train-labels-idx1-ubyte.gz\n",
      "32768/29515 [=================================] - 0s 10us/step\n",
      "Downloading data from http://fashion-mnist.s3-website.eu-central-1.amazonaws.com/train-images-idx3-ubyte.gz\n",
      "26427392/26421880 [==============================] - 225s 9us/step\n",
      "Downloading data from http://fashion-mnist.s3-website.eu-central-1.amazonaws.com/t10k-labels-idx1-ubyte.gz\n",
      "8192/5148 [===============================================] - 0s 0us/step\n",
      "Downloading data from http://fashion-mnist.s3-website.eu-central-1.amazonaws.com/t10k-images-idx3-ubyte.gz\n",
      "4423680/4422102 [==============================] - 14s 3us/step\n"
     ]
    }
   ],
   "source": [
    "from keras.datasets.fashion_mnist import load_data\n",
    "((X_train, y_train), (X_test, y_test)) = load_data()"
   ]
  },
  {
   "cell_type": "code",
   "execution_count": 2,
   "metadata": {},
   "outputs": [
    {
     "name": "stdout",
     "output_type": "stream",
     "text": [
      "(60000, 28, 28)\n",
      "(10000, 28, 28)\n"
     ]
    }
   ],
   "source": [
    "print(X_train.shape)\n",
    "print(X_test.shape)"
   ]
  },
  {
   "cell_type": "code",
   "execution_count": 3,
   "metadata": {},
   "outputs": [
    {
     "name": "stdout",
     "output_type": "stream",
     "text": [
      "1\n"
     ]
    },
    {
     "data": {
      "text/plain": [
       "<matplotlib.image.AxesImage at 0x28420d8e748>"
      ]
     },
     "execution_count": 3,
     "metadata": {},
     "output_type": "execute_result"
    },
    {
     "data": {
      "image/png": "[encoded data removed]",
      "text/plain": [
       "<Figure size 432x288 with 1 Axes>"
      ]
     },
     "metadata": {
      "needs_background": "light"
     },
     "output_type": "display_data"
    }
   ],
   "source": [
    "import matplotlib.pyplot as plt\n",
    "%matplotlib inline\n",
    "import random\n",
    "c = random.randint(0, X_train.shape[0]-1)\n",
    "print(y_train[c])\n",
    "plt.imshow(X_train[c], cmap='gray')"
   ]
  },
  {
   "cell_type": "code",
   "execution_count": 4,
   "metadata": {},
   "outputs": [],
   "source": [
    "X_train_reshape = X_train.reshape(60000, 784) /255\n",
    "X_test_reshape = X_test.reshape(10000, 784) /255\n",
    "from keras.utils.np_utils import to_categorical\n",
    "y_train_categorical = to_categorical(y_train)\n",
    "y_test_categorical = to_categorical(y_test)"
   ]
  },
  {
   "cell_type": "code",
   "execution_count": 5,
   "metadata": {},
   "outputs": [
    {
     "name": "stdout",
     "output_type": "stream",
     "text": [
      "_________________________________________________________________\n",
      "Layer (type)                 Output Shape              Param #   \n",
      "=================================================================\n",
      "dense_1 (Dense)              (None, 128)               100480    \n",
      "_________________________________________________________________\n",
      "dense_2 (Dense)              (None, 10)                1290      \n",
      "=================================================================\n",
      "Total params: 101,770\n",
      "Trainable params: 101,770\n",
      "Non-trainable params: 0\n",
      "_________________________________________________________________\n"
     ]
    }
   ],
   "source": [
    "from keras.models import Sequential\n",
    "from keras.layers import Dense\n",
    "\n",
    "MLP = Sequential()\n",
    "MLP.add(Dense(128, input_dim=784, activation='relu'))\n",
    "MLP.add(Dense(10, activation='softmax'))\n",
    "MLP.summary()"
   ]
  },
  {
   "cell_type": "code",
   "execution_count": 6,
   "metadata": {},
   "outputs": [
    {
     "name": "stdout",
     "output_type": "stream",
     "text": [
      "Train on 54000 samples, validate on 6000 samples\n",
      "Epoch 1/15\n",
      " - 1s - loss: 0.5944 - acc: 0.7988 - val_loss: 0.4536 - val_acc: 0.8410\n",
      "Epoch 2/15\n",
      " - 1s - loss: 0.4191 - acc: 0.8540 - val_loss: 0.4174 - val_acc: 0.8543\n",
      "Epoch 3/15\n",
      " - 1s - loss: 0.3793 - acc: 0.8667 - val_loss: 0.3700 - val_acc: 0.8648\n",
      "Epoch 4/15\n",
      " - 1s - loss: 0.3553 - acc: 0.8739 - val_loss: 0.3643 - val_acc: 0.8687\n",
      "Epoch 5/15\n",
      " - 1s - loss: 0.3345 - acc: 0.8819 - val_loss: 0.3492 - val_acc: 0.8708\n",
      "Epoch 6/15\n",
      " - 1s - loss: 0.3241 - acc: 0.8849 - val_loss: 0.3511 - val_acc: 0.8737\n",
      "Epoch 7/15\n",
      " - 1s - loss: 0.3109 - acc: 0.8884 - val_loss: 0.3428 - val_acc: 0.8753\n",
      "Epoch 8/15\n",
      " - 1s - loss: 0.2964 - acc: 0.8931 - val_loss: 0.3448 - val_acc: 0.8743\n",
      "Epoch 9/15\n",
      " - 1s - loss: 0.2891 - acc: 0.8961 - val_loss: 0.3417 - val_acc: 0.8745\n",
      "Epoch 10/15\n",
      " - 1s - loss: 0.2787 - acc: 0.8989 - val_loss: 0.3312 - val_acc: 0.8777\n",
      "Epoch 11/15\n",
      " - 1s - loss: 0.2693 - acc: 0.9026 - val_loss: 0.3187 - val_acc: 0.8855\n",
      "Epoch 12/15\n",
      " - 1s - loss: 0.2601 - acc: 0.9067 - val_loss: 0.3210 - val_acc: 0.8842\n",
      "Epoch 13/15\n",
      " - 1s - loss: 0.2577 - acc: 0.9067 - val_loss: 0.3146 - val_acc: 0.8877\n",
      "Epoch 14/15\n",
      " - 1s - loss: 0.2454 - acc: 0.9111 - val_loss: 0.3385 - val_acc: 0.8785\n",
      "Epoch 15/15\n",
      " - 1s - loss: 0.2467 - acc: 0.9100 - val_loss: 0.3520 - val_acc: 0.8718\n"
     ]
    },
    {
     "data": {
      "text/plain": [
       "<keras.callbacks.History at 0x28420e09ef0>"
      ]
     },
     "execution_count": 6,
     "metadata": {},
     "output_type": "execute_result"
    }
   ],
   "source": [
    "MLP.compile(loss='categorical_crossentropy', optimizer='adam', metrics=['accuracy'])\n",
    "MLP.fit(X_train_reshape, y_train_categorical, \n",
    "        batch_size=200, epochs=15, validation_split=0.1, verbose=2)"
   ]
  },
  {
   "cell_type": "code",
   "execution_count": null,
   "metadata": {},
   "outputs": [],
   "source": [
    "MLP.evaluate(X_test_reshape, y_test_categorical)"
   ]
  },
  {
   "cell_type": "code",
   "execution_count": null,
   "metadata": {},
   "outputs": [],
   "source": [
    "from sklearn.metrics import confusion_matrix\n",
    "import pandas as pd\n",
    "pd.DataFrame(confusion_matrix(y_test,  MLP.predict_classes(X_test_reshape)))"
   ]
  },
  {
   "cell_type": "code",
   "execution_count": null,
   "metadata": {},
   "outputs": [],
   "source": []
  }
 ],
 "metadata": {
  "kernelspec": {
   "display_name": "Python 3",
   "language": "python",
   "name": "python3"
  },
  "language_info": {
   "codemirror_mode": {
    "name": "ipython",
    "version": 3
   },
   "file_extension": ".py",
   "mimetype": "text/x-python",
   "name": "python",
   "nbconvert_exporter": "python",
   "pygments_lexer": "ipython3",
   "version": "3.6.0"
  }
 },
 "nbformat": 4,
 "nbformat_minor": 1
}
