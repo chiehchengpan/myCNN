{
 "cells": [
  {
   "cell_type": "code",
   "execution_count": 26,
   "metadata": {},
   "outputs": [],
   "source": [
    "from keras.datasets.mnist import load_data\n",
    "\n",
    "((x_train, y_train),(x_test, y_test)) = load_data()"
   ]
  },
  {
   "cell_type": "code",
   "execution_count": 27,
   "metadata": {},
   "outputs": [],
   "source": [
    "from keras.utils.np_utils import to_categorical\n",
    "x_train = x_train.reshape(x_train.shape[0], 28, 28, 1)\n",
    "x_test = x_test.reshape(x_test.shape[0], 28, 28, 1)\n",
    "x_train_shape = x_train / 255\n",
    "x_test_shape = x_test / 255\n",
    "y_train_cat = to_categorical(y_train)\n",
    "y_test_cat = to_categorical(y_test)"
   ]
  },
  {
   "cell_type": "code",
   "execution_count": 28,
   "metadata": {},
   "outputs": [],
   "source": [
    "from keras.models import Sequential, Model\n",
    "from keras.layers import Flatten, Dense, Dropout, BatchNormalization\n",
    "from keras.applications.vgg16 import VGG16\n",
    "import matplotlib.pyplot as plt"
   ]
  },
  {
   "cell_type": "code",
   "execution_count": 30,
   "metadata": {},
   "outputs": [
    {
     "name": "stdout",
     "output_type": "stream",
     "text": [
      "_________________________________________________________________\n",
      "Layer (type)                 Output Shape              Param #   \n",
      "=================================================================\n",
      "conv2d_8 (Conv2D)            (None, 28, 28, 32)        320       \n",
      "_________________________________________________________________\n",
      "max_pooling2d_7 (MaxPooling2 (None, 14, 14, 32)        0         \n",
      "_________________________________________________________________\n",
      "dropout_7 (Dropout)          (None, 14, 14, 32)        0         \n",
      "_________________________________________________________________\n",
      "conv2d_9 (Conv2D)            (None, 14, 14, 64)        18496     \n",
      "_________________________________________________________________\n",
      "max_pooling2d_8 (MaxPooling2 (None, 7, 7, 64)          0         \n",
      "_________________________________________________________________\n",
      "dropout_8 (Dropout)          (None, 7, 7, 64)          0         \n",
      "_________________________________________________________________\n",
      "conv2d_10 (Conv2D)           (None, 7, 7, 128)         73856     \n",
      "_________________________________________________________________\n",
      "max_pooling2d_9 (MaxPooling2 (None, 3, 3, 128)         0         \n",
      "_________________________________________________________________\n",
      "flatten_4 (Flatten)          (None, 1152)              0         \n",
      "=================================================================\n",
      "Total params: 92,672\n",
      "Trainable params: 92,672\n",
      "Non-trainable params: 0\n",
      "_________________________________________________________________\n"
     ]
    }
   ],
   "source": [
    "from keras.layers import Conv2D, MaxPooling2D, Dense,Flatten, Dropout\n",
    "cnn = Sequential()\n",
    "cnn.add(Conv2D(32, (3,3), activation='relu',padding='same', input_shape=(28, 28, 1)))\n",
    "cnn.add(MaxPooling2D(pool_size=(2, 2)))\n",
    "cnn.add(Dropout(0.25))\n",
    "cnn.add(Conv2D(64, (3, 3), activation='relu', padding='same'))\n",
    "cnn.add(MaxPooling2D(pool_size=(2, 2)))\n",
    "cnn.add(Dropout(0.25))\n",
    "cnn.add(Conv2D(128, (3, 3), activation='relu', padding='same'))\n",
    "cnn.add(MaxPooling2D(pool_size=(2, 2)))\n",
    "cnn.add(Flatten())\n",
    "cnn.summary()"
   ]
  },
  {
   "cell_type": "code",
   "execution_count": 31,
   "metadata": {},
   "outputs": [
    {
     "name": "stdout",
     "output_type": "stream",
     "text": [
      "Train on 54000 samples, validate on 6000 samples\n",
      "Epoch 1/10\n",
      "54000/54000 [==============================] - 53s 973us/step - loss: 0.3081 - acc: 0.9013 - val_loss: 0.0600 - val_acc: 0.9832\n",
      "Epoch 2/10\n",
      "54000/54000 [==============================] - 52s 959us/step - loss: 0.0774 - acc: 0.9762 - val_loss: 0.0439 - val_acc: 0.9868\n",
      "Epoch 3/10\n",
      "54000/54000 [==============================] - 52s 960us/step - loss: 0.0529 - acc: 0.9835 - val_loss: 0.0358 - val_acc: 0.9883\n",
      "Epoch 4/10\n",
      "54000/54000 [==============================] - 52s 967us/step - loss: 0.0428 - acc: 0.9859 - val_loss: 0.0292 - val_acc: 0.9920\n",
      "Epoch 5/10\n",
      "54000/54000 [==============================] - 52s 967us/step - loss: 0.0369 - acc: 0.9886 - val_loss: 0.0269 - val_acc: 0.9927\n",
      "Epoch 6/10\n",
      "54000/54000 [==============================] - 52s 963us/step - loss: 0.0311 - acc: 0.9897 - val_loss: 0.0265 - val_acc: 0.9930\n",
      "Epoch 7/10\n",
      "54000/54000 [==============================] - 52s 964us/step - loss: 0.0280 - acc: 0.9910 - val_loss: 0.0269 - val_acc: 0.9927\n",
      "Epoch 8/10\n",
      "54000/54000 [==============================] - 52s 972us/step - loss: 0.0252 - acc: 0.9915 - val_loss: 0.0274 - val_acc: 0.9925\n",
      "Epoch 9/10\n",
      "54000/54000 [==============================] - 52s 963us/step - loss: 0.0226 - acc: 0.9924 - val_loss: 0.0306 - val_acc: 0.9912\n",
      "Epoch 10/10\n",
      "54000/54000 [==============================] - 52s 963us/step - loss: 0.0203 - acc: 0.9932 - val_loss: 0.0251 - val_acc: 0.9927\n"
     ]
    },
    {
     "data": {
      "text/plain": [
       "<keras.callbacks.History at 0x1fa80276630>"
      ]
     },
     "execution_count": 31,
     "metadata": {},
     "output_type": "execute_result"
    }
   ],
   "source": [
    "cnn.add(Dense(256, activation='relu'))\n",
    "cnn.add(Dense(10, activation='softmax'))\n",
    "cnn.compile(loss=\"categorical_crossentropy\", optimizer=\"adam\", metrics=[\"accuracy\"])\n",
    "cnn.fit(x_train_shape, y_train_cat, batch_size=200, epochs=10, validation_split=0.1)"
   ]
  },
  {
   "cell_type": "code",
   "execution_count": 35,
   "metadata": {},
   "outputs": [
    {
     "name": "stdout",
     "output_type": "stream",
     "text": [
      "7\n",
      "7\n"
     ]
    }
   ],
   "source": [
    "import random\n",
    "\n",
    "i = random.randint(0, 9999)\n",
    "ans = cnn.predict_classes(x_test_shape)\n",
    "print(ans[i])\n",
    "print(y_test[i])"
   ]
  },
  {
   "cell_type": "code",
   "execution_count": null,
   "metadata": {},
   "outputs": [],
   "source": []
  }
 ],
 "metadata": {
  "kernelspec": {
   "display_name": "Python 3",
   "language": "python",
   "name": "python3"
  },
  "language_info": {
   "codemirror_mode": {
    "name": "ipython",
    "version": 3
   },
   "file_extension": ".py",
   "mimetype": "text/x-python",
   "name": "python",
   "nbconvert_exporter": "python",
   "pygments_lexer": "ipython3",
   "version": "3.6.0"
  }
 },
 "nbformat": 4,
 "nbformat_minor": 2
}
